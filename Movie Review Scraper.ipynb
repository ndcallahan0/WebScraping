{
 "cells": [
  {
   "cell_type": "code",
   "execution_count": 2,
   "id": "d1085f77",
   "metadata": {},
   "outputs": [],
   "source": [
    "from urllib.request import urlopen\n",
    "from bs4 import BeautifulSoup\n",
    "html = urlopen('https://www.imdb.com/title/tt1877830/reviews/?ref_=tt_ql_urv')\n",
    "bs = BeautifulSoup(html, \"html.parser\")"
   ]
  },
  {
   "cell_type": "code",
   "execution_count": 3,
   "id": "ddc55664",
   "metadata": {},
   "outputs": [
    {
     "name": "stdout",
     "output_type": "stream",
     "text": [
      "5/10\n",
      "4/10\n",
      "3/10\n",
      "3/10\n",
      "5/10\n",
      "3/10\n",
      "4/10\n",
      "2/10\n",
      "2/10\n",
      "4/10\n",
      "9/10\n",
      "6/10\n",
      "10/10\n",
      "2/10\n",
      "2/10\n",
      "2/10\n",
      "3/10\n",
      "6/10\n",
      "5/10\n",
      "5/10\n",
      "2/10\n",
      "9/10\n",
      "6/10\n",
      "1/10\n"
     ]
    }
   ],
   "source": [
    "ratings = bs.findAll('span', attrs= {'class':'rating-other-user-rating'})\n",
    "for stars in ratings:\n",
    "    print(stars.text.strip())"
   ]
  },
  {
   "cell_type": "code",
   "execution_count": 4,
   "id": "08d00d7f",
   "metadata": {},
   "outputs": [
    {
     "name": "stdout",
     "output_type": "stream",
     "text": [
      " The try-hard Batman movie\n",
      "\n",
      " Overblown, overhyped latest addition to the Batman franchise\n",
      "\n",
      " Couldn't even finish this drivel...\n",
      "\n",
      " The epitome of try-hard\n",
      "\n",
      " Why so highly rated??\n",
      "\n",
      " I like slow-burn. This was just dull.\n",
      "\n",
      " So much is wrong with this film\n",
      "\n",
      " What are these reviews? Cringey garbage.\n",
      "\n",
      " Melodramatic, monstrously long, mediocre, and boring.\n",
      "\n",
      " Emoman a DCsastrous Batman re-boot\n",
      "\n",
      " Nothing special\n",
      "\n",
      " DETECTIVE BATMAN AT ITS PEAK!\n",
      "\n",
      " The Disappointing Batman\n",
      "\n",
      " Everything I wanted and more\n",
      "\n",
      " First Batman to Make Me Yawn\n",
      "\n",
      " Way too long, Pattinson Batman is brooding and sleepy\n",
      "\n",
      " Dynamic Garbage\n",
      "\n",
      " Maybe Schumacher wasn't so bad\n",
      "\n",
      " The Emo Batman\n",
      "\n",
      " When you expect too much... you're let down easily.\n",
      "\n",
      " Nothing new here, pass.\n",
      "\n",
      " Too long; too drawn-out; too nihilistic.\n",
      "\n",
      " Perhaps not the definitive version, but definitely a worthwhile take\n",
      "\n",
      " A good Batman movie\n",
      "\n",
      " What has become of blockbusters nowadays?\n",
      "\n"
     ]
    }
   ],
   "source": [
    "reviewTitles = bs.findAll('a', attrs= {'class': 'title'})\n",
    "for titles in reviewTitles:\n",
    "    print(titles.get_text())"
   ]
  },
  {
   "cell_type": "code",
   "execution_count": 5,
   "id": "3c8aa37c",
   "metadata": {},
   "outputs": [
    {
     "name": "stdout",
     "output_type": "stream",
     "text": [
      "7 March 2022\n",
      "4 April 2022\n",
      "18 April 2022\n",
      "6 March 2022\n",
      "12 March 2022\n",
      "5 March 2022\n",
      "14 March 2022\n",
      "13 March 2022\n",
      "5 March 2022\n",
      "6 March 2022\n",
      "5 March 2022\n",
      "2 March 2022\n",
      "5 March 2022\n",
      "2 March 2022\n",
      "7 March 2022\n",
      "10 March 2022\n",
      "5 March 2022\n",
      "5 April 2022\n",
      "15 April 2022\n",
      "3 March 2022\n",
      "19 April 2022\n",
      "6 March 2022\n",
      "5 March 2022\n",
      "3 March 2022\n",
      "22 April 2022\n"
     ]
    }
   ],
   "source": [
    "reviewDates = bs.findAll('span',{'class': 'review-date'})\n",
    "for dates in reviewDates:\n",
    "    print(dates.get_text())"
   ]
  }
 ],
 "metadata": {
  "interpreter": {
   "hash": "f526fd7d4b2e06660c71fa7c0417af587433300910f715f66b7f5d0b66617870"
  },
  "kernelspec": {
   "display_name": "Python 3.9.12 ('base')",
   "language": "python",
   "name": "python3"
  },
  "language_info": {
   "codemirror_mode": {
    "name": "ipython",
    "version": 3
   },
   "file_extension": ".py",
   "mimetype": "text/x-python",
   "name": "python",
   "nbconvert_exporter": "python",
   "pygments_lexer": "ipython3",
   "version": "3.9.12"
  }
 },
 "nbformat": 4,
 "nbformat_minor": 5
}
